{
 "cells": [
  {
   "cell_type": "code",
   "execution_count": 1,
   "metadata": {
    "collapsed": false
   },
   "outputs": [],
   "source": [
    "import theano.tensor as T\n",
    "import numpy as np\n",
    "\n",
    "from pymanopt.solvers.steepest_descent import SteepestDescent\n",
    "from pymanopt.manifolds.stiefel import Stiefel"
   ]
  },
  {
   "cell_type": "code",
   "execution_count": 2,
   "metadata": {
    "collapsed": true
   },
   "outputs": [],
   "source": [
    "steepest_solver = SteepestDescent()\n",
    "manifold = Stiefel(5,2)"
   ]
  },
  {
   "cell_type": "code",
   "execution_count": 3,
   "metadata": {
    "collapsed": false
   },
   "outputs": [],
   "source": [
    "X = T.matrix()\n",
    "Y = X[0,0] + X[1,1]"
   ]
  },
  {
   "cell_type": "code",
   "execution_count": 5,
   "metadata": {
    "collapsed": false
   },
   "outputs": [
    {
     "name": "stdout",
     "output_type": "stream",
     "text": [
      "Computing gradient and compiling...\n",
      "iter\tcost\t\tgrad. norm\n",
      "   0\t-0.44938\t1.34631\n",
      "   1\t-1.48956\t0.93031\n",
      "   2\t-1.98605\t0.16644\n",
      "   3\t-1.99691\t0.07857\n",
      "   4\t-1.99897\t0.04527\n",
      "   5\t-1.99985\t0.01723\n",
      "   6\t-1.99990\t0.01398\n",
      "   7\t-2.00000\t0.00166\n",
      "   8\t-2.00000\t0.00030\n",
      "   9\t-2.00000\t0.00019\n",
      "[[ -1.00000000e+00  -5.14669247e-06]\n",
      " [  5.14778558e-06  -9.99999999e-01]\n",
      " [ -3.02522022e-06  -1.23868408e-05]\n",
      " [  1.01201487e-05   5.59004911e-06]\n",
      " [  2.36697346e-05   4.22085392e-05]]\n"
     ]
    }
   ],
   "source": [
    "steepest_solver.solve(Y, X, manifold)"
   ]
  },
  {
   "cell_type": "code",
   "execution_count": null,
   "metadata": {
    "collapsed": true
   },
   "outputs": [],
   "source": []
  }
 ],
 "metadata": {
  "kernelspec": {
   "display_name": "Python 2",
   "language": "python",
   "name": "python2"
  },
  "language_info": {
   "codemirror_mode": {
    "name": "ipython",
    "version": 2
   },
   "file_extension": ".py",
   "mimetype": "text/x-python",
   "name": "python",
   "nbconvert_exporter": "python",
   "pygments_lexer": "ipython2",
   "version": "2.7.10"
  }
 },
 "nbformat": 4,
 "nbformat_minor": 0
}
