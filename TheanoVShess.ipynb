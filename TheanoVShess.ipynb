{
 "cells": [
  {
   "cell_type": "code",
   "execution_count": 19,
   "metadata": {
    "collapsed": true
   },
   "outputs": [],
   "source": [
    "import theano.tensor as T\n",
    "import theano\n",
    "from pymanopt.manifolds import *\n",
    "\n",
    "s = Stiefel(3, 1)"
   ]
  },
  {
   "cell_type": "code",
   "execution_count": 56,
   "metadata": {
    "collapsed": false
   },
   "outputs": [],
   "source": [
    "X = T.matrix()\n",
    "A = T.matrix()\n",
    "cost = T.exp(T.sum(X**2))\n",
    "\n",
    "egrad = T.grad(cost, X)\n",
    "ehess = T.Rop(egrad, X, A)\n",
    "\n",
    "XtG = T.dot(X.T, egrad)\n",
    "rgrad = egrad - T.dot(X, XtG + XtG.T) / 2\n",
    "\n",
    "drgrad = T.Rop(rgrad, X, A)\n",
    "\n",
    "rhess = T.Rop(rgrad, X, A)"
   ]
  },
  {
   "cell_type": "code",
   "execution_count": 57,
   "metadata": {
    "collapsed": false
   },
   "outputs": [],
   "source": [
    "egrad_func = theano.function([X], egrad)\n",
    "ehess_func = theano.function([X, A], ehess)\n",
    "drgrad_func = theano.function([X, A], drgrad)\n",
    "rhess_func = theano.function([X, A], rhess)"
   ]
  },
  {
   "cell_type": "code",
   "execution_count": 63,
   "metadata": {
    "collapsed": true
   },
   "outputs": [],
   "source": [
    "X = s.rand()\n",
    "A = 20000000*s.randvec(X)"
   ]
  },
  {
   "cell_type": "code",
   "execution_count": 64,
   "metadata": {
    "collapsed": false
   },
   "outputs": [
    {
     "name": "stdout",
     "output_type": "stream",
     "text": [
      "[[ -2.88666582e-09]\n",
      " [  6.32066186e-10]\n",
      " [  3.06485066e-09]]\n"
     ]
    }
   ],
   "source": [
    "print s.ehess2rhess(X, egrad_func(X), ehess_func(X, A), A)"
   ]
  },
  {
   "cell_type": "code",
   "execution_count": 65,
   "metadata": {
    "collapsed": false
   },
   "outputs": [
    {
     "name": "stdout",
     "output_type": "stream",
     "text": [
      "[[  0.00000000e+00]\n",
      " [ -7.45058060e-09]\n",
      " [  7.45058060e-09]]\n"
     ]
    }
   ],
   "source": [
    "print rhess_func(X, A)"
   ]
  },
  {
   "cell_type": "code",
   "execution_count": 66,
   "metadata": {
    "collapsed": false
   },
   "outputs": [
    {
     "name": "stdout",
     "output_type": "stream",
     "text": [
      "[[  0.00000000e+00]\n",
      " [ -7.45058060e-09]\n",
      " [  7.45058060e-09]]\n"
     ]
    }
   ],
   "source": [
    "def rhess_new(Y, U):\n",
    "    rhess = s.proj(Y, ehess_func(Y, U))\n",
    "    G = egrad_func(Y)\n",
    "    t = -(Y.dot(U.T.dot(G) + G.T.dot(U)) + U.dot(Y.T.dot(G) + G.T.dot(Y)))/2\n",
    "    return rhess + t\n",
    "print rhess_new(X, A)"
   ]
  },
  {
   "cell_type": "code",
   "execution_count": 67,
   "metadata": {
    "collapsed": false
   },
   "outputs": [
    {
     "name": "stdout",
     "output_type": "stream",
     "text": [
      "[[ -2.88666582e-09]\n",
      " [  6.32066186e-10]\n",
      " [  3.06485066e-09]]\n"
     ]
    }
   ],
   "source": [
    "print s.proj(X, drgrad_func(X, A))"
   ]
  },
  {
   "cell_type": "code",
   "execution_count": null,
   "metadata": {
    "collapsed": true
   },
   "outputs": [],
   "source": []
  }
 ],
 "metadata": {
  "kernelspec": {
   "display_name": "Python 2",
   "language": "python",
   "name": "python2"
  },
  "language_info": {
   "codemirror_mode": {
    "name": "ipython",
    "version": 2
   },
   "file_extension": ".py",
   "mimetype": "text/x-python",
   "name": "python",
   "nbconvert_exporter": "python",
   "pygments_lexer": "ipython2",
   "version": "2.7.10"
  }
 },
 "nbformat": 4,
 "nbformat_minor": 0
}
